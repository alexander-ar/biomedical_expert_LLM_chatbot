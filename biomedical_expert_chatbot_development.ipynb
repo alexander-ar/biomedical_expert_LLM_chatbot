{
 "cells": [
  {
   "cell_type": "code",
   "execution_count": 2,
   "metadata": {},
   "outputs": [
    {
     "data": {
      "text/plain": [
       "False"
      ]
     },
     "execution_count": 2,
     "metadata": {},
     "output_type": "execute_result"
    }
   ],
   "source": [
    "from langchain_openai import OpenAI\n",
    "from dotenv import load_dotenv\n",
    "import os\n",
    "import argparse\n"
   ]
  },
  {
   "cell_type": "code",
   "execution_count": 5,
   "metadata": {},
   "outputs": [
    {
     "data": {
      "text/plain": [
       "'/Users/alexanderarefolov/Dropbox/Coding_Projects/biomedical_expert_chatbot'"
      ]
     },
     "execution_count": 5,
     "metadata": {},
     "output_type": "execute_result"
    }
   ],
   "source": [
    "pwd"
   ]
  },
  {
   "cell_type": "code",
   "execution_count": 6,
   "metadata": {},
   "outputs": [
    {
     "name": "stdout",
     "output_type": "stream",
     "text": [
      "/Users/alexanderarefolov/Dropbox/Coding_Projects/biomedical_expert_chatbot/biomedical_expert_chatbot\n"
     ]
    }
   ],
   "source": [
    "cd biomedical_expert_chatbot"
   ]
  },
  {
   "cell_type": "code",
   "execution_count": 7,
   "metadata": {},
   "outputs": [
    {
     "data": {
      "text/plain": [
       "'/Users/alexanderarefolov/Dropbox/Coding_Projects/biomedical_expert_chatbot/biomedical_expert_chatbot'"
      ]
     },
     "execution_count": 7,
     "metadata": {},
     "output_type": "execute_result"
    }
   ],
   "source": [
    "pwd"
   ]
  },
  {
   "cell_type": "markdown",
   "metadata": {},
   "source": []
  },
  {
   "cell_type": "code",
   "execution_count": null,
   "metadata": {},
   "outputs": [],
   "source": []
  },
  {
   "cell_type": "code",
   "execution_count": 146,
   "metadata": {},
   "outputs": [],
   "source": [
    "client = OpenAI()"
   ]
  },
  {
   "cell_type": "code",
   "execution_count": 147,
   "metadata": {},
   "outputs": [],
   "source": [
    "chat_history = []"
   ]
  },
  {
   "cell_type": "code",
   "execution_count": 148,
   "metadata": {},
   "outputs": [],
   "source": [
    "# first question processing"
   ]
  },
  {
   "cell_type": "code",
   "execution_count": 149,
   "metadata": {},
   "outputs": [],
   "source": [
    "new_user_question = \"What type of molecule encodes heritable genetic information for all forms of life?\""
   ]
  },
  {
   "cell_type": "code",
   "execution_count": 150,
   "metadata": {},
   "outputs": [],
   "source": [
    "new_question = new_user_question"
   ]
  },
  {
   "cell_type": "code",
   "execution_count": 151,
   "metadata": {},
   "outputs": [],
   "source": [
    "system_prompt = {\n",
    "    \"role\": \"system\", \n",
    "    \"content\" : \"You are a distinguished scientist and an expert in the biomedical domain. You are answering questions in the biomedical domain only.  If you are asked a question that is not related to biomedical domain you response will be 'The question is not relevant to the biomedical domain'.\"\n",
    "    }\n",
    "\n",
    "user_question = {\n",
    "    \"role\": \"user\", \n",
    "    \"content\": f\"Only give me answers if the question is related to biomedical domain. If a question is not from biomedical domain, respond with 'The question is not relevant to the biomedical domain'.  Here is the user's question: {new_question}\"\n",
    "}\n",
    "\n",
    "messages = [system_prompt]\n"
   ]
  },
  {
   "cell_type": "code",
   "execution_count": 152,
   "metadata": {},
   "outputs": [
    {
     "data": {
      "text/plain": [
       "[{'role': 'system',\n",
       "  'content': \"You are a distinguished scientist and an expert in the biomedical domain. You are answering questions in the biomedical domain only.  If you are asked a question that is not related to biomedical domain you response will be 'The question is not relevant to the biomedical domain'.\"}]"
      ]
     },
     "execution_count": 152,
     "metadata": {},
     "output_type": "execute_result"
    }
   ],
   "source": [
    "messages"
   ]
  },
  {
   "cell_type": "code",
   "execution_count": 153,
   "metadata": {},
   "outputs": [],
   "source": [
    "# add the chat history\n",
    "for question, answer in chat_history:\n",
    "    print(question)\n",
    "    print(answer)\n",
    "    messages.append({\"role\": \"user\", \"content\": question})\n",
    "    messages.append({\"role\": \"assistant\", \"content\": answer})\n",
    "    "
   ]
  },
  {
   "cell_type": "code",
   "execution_count": 154,
   "metadata": {},
   "outputs": [
    {
     "data": {
      "text/plain": [
       "[{'role': 'system',\n",
       "  'content': \"You are a distinguished scientist and an expert in the biomedical domain. You are answering questions in the biomedical domain only.  If you are asked a question that is not related to biomedical domain you response will be 'The question is not relevant to the biomedical domain'.\"}]"
      ]
     },
     "execution_count": 154,
     "metadata": {},
     "output_type": "execute_result"
    }
   ],
   "source": [
    "messages"
   ]
  },
  {
   "cell_type": "code",
   "execution_count": 155,
   "metadata": {},
   "outputs": [],
   "source": [
    "# append the latest user question    \n",
    "messages.append(user_question)"
   ]
  },
  {
   "cell_type": "code",
   "execution_count": 156,
   "metadata": {},
   "outputs": [
    {
     "data": {
      "text/plain": [
       "[{'role': 'system',\n",
       "  'content': \"You are a distinguished scientist and an expert in the biomedical domain. You are answering questions in the biomedical domain only.  If you are asked a question that is not related to biomedical domain you response will be 'The question is not relevant to the biomedical domain'.\"},\n",
       " {'role': 'user',\n",
       "  'content': \"Only give me answers if the question is related to biomedical domain. If a question is not from biomedical domain, respond with 'The question is not relevant to the biomedical domain'.  Here is the user's question: What type of molecule encodes heritable genetic information for all forms of life?\"}]"
      ]
     },
     "execution_count": 156,
     "metadata": {},
     "output_type": "execute_result"
    }
   ],
   "source": [
    "messages"
   ]
  },
  {
   "cell_type": "code",
   "execution_count": 157,
   "metadata": {},
   "outputs": [],
   "source": [
    "chat_completion = client.chat.completions.create(\n",
    "    model = 'gpt-4-turbo-preview',\n",
    "    messages = messages,\n",
    "    temperature = 0.5,\n",
    "    max_tokens = 800,\n",
    "    top_p = 0.95,\n",
    "    frequency_penalty = 0,\n",
    "    presence_penalty = 0,\n",
    "    stop = None\n",
    ")"
   ]
  },
  {
   "cell_type": "code",
   "execution_count": 158,
   "metadata": {},
   "outputs": [
    {
     "data": {
      "text/plain": [
       "'The type of molecule that encodes heritable genetic information for all forms of life is deoxyribonucleic acid, commonly known as DNA. DNA is a long molecule that contains the unique genetic code that guides the development, functioning, and reproduction of all living organisms and many viruses.'"
      ]
     },
     "execution_count": 158,
     "metadata": {},
     "output_type": "execute_result"
    }
   ],
   "source": [
    "chat_completion.choices[0].message.content"
   ]
  },
  {
   "cell_type": "code",
   "execution_count": 159,
   "metadata": {},
   "outputs": [],
   "source": [
    "response = chat_completion.choices[0].message.content"
   ]
  },
  {
   "cell_type": "code",
   "execution_count": 160,
   "metadata": {},
   "outputs": [],
   "source": [
    "chat_history.append((new_user_question, response))"
   ]
  },
  {
   "cell_type": "code",
   "execution_count": 161,
   "metadata": {},
   "outputs": [
    {
     "name": "stdout",
     "output_type": "stream",
     "text": [
      "The type of molecule that encodes heritable genetic information for all forms of life is deoxyribonucleic acid, commonly known as DNA. DNA is a long molecule that contains the unique genetic code that guides the development, functioning, and reproduction of all living organisms and many viruses. \n",
      "\n"
     ]
    }
   ],
   "source": [
    "print(response, \"\\n\")"
   ]
  },
  {
   "cell_type": "code",
   "execution_count": 162,
   "metadata": {},
   "outputs": [
    {
     "data": {
      "text/plain": [
       "[('What type of molecule encodes heritable genetic information for all forms of life?',\n",
       "  'The type of molecule that encodes heritable genetic information for all forms of life is deoxyribonucleic acid, commonly known as DNA. DNA is a long molecule that contains the unique genetic code that guides the development, functioning, and reproduction of all living organisms and many viruses.')]"
      ]
     },
     "execution_count": 162,
     "metadata": {},
     "output_type": "execute_result"
    }
   ],
   "source": [
    "# second question processing\n",
    "chat_history"
   ]
  },
  {
   "cell_type": "code",
   "execution_count": 163,
   "metadata": {},
   "outputs": [],
   "source": [
    "new_user_question = \"What does IBD stand for?\""
   ]
  },
  {
   "cell_type": "code",
   "execution_count": 164,
   "metadata": {},
   "outputs": [],
   "source": [
    "new_question = new_user_question"
   ]
  },
  {
   "cell_type": "code",
   "execution_count": 165,
   "metadata": {},
   "outputs": [],
   "source": [
    "system_prompt = {\n",
    "    \"role\": \"system\", \n",
    "    \"content\" : \"You are a distinguished scientist and an expert in the biomedical domain. You are answering questions in the biomedical domain only.  If you are asked a question that is not related to biomedical domain you response will be 'The question is not relevant to the biomedical domain'.\"\n",
    "    }\n",
    "\n",
    "user_question = {\n",
    "    \"role\": \"user\", \n",
    "    \"content\": f\"Only give me answers if the question is related to biomedical domain. If a question is not from biomedical domain, respond with 'The question is not relevant to the biomedical domain'.  Here is the user's question: {new_question}\"\n",
    "}\n",
    "\n",
    "messages = [system_prompt]\n",
    "\n",
    "# add the chat history\n",
    "for question, answer in chat_history:\n",
    "    messages.append({\"role\": \"user\", \"content\": question})\n",
    "    messages.append({\"role\": \"assistant\", \"content\": answer})\n",
    "    \n",
    "# append the latest user question    \n",
    "messages.append(user_question)"
   ]
  },
  {
   "cell_type": "code",
   "execution_count": 166,
   "metadata": {},
   "outputs": [
    {
     "data": {
      "text/plain": [
       "[{'role': 'system',\n",
       "  'content': \"You are a distinguished scientist and an expert in the biomedical domain. You are answering questions in the biomedical domain only.  If you are asked a question that is not related to biomedical domain you response will be 'The question is not relevant to the biomedical domain'.\"},\n",
       " {'role': 'user',\n",
       "  'content': 'What type of molecule encodes heritable genetic information for all forms of life?'},\n",
       " {'role': 'assistant',\n",
       "  'content': 'The type of molecule that encodes heritable genetic information for all forms of life is deoxyribonucleic acid, commonly known as DNA. DNA is a long molecule that contains the unique genetic code that guides the development, functioning, and reproduction of all living organisms and many viruses.'},\n",
       " {'role': 'user',\n",
       "  'content': \"Only give me answers if the question is related to biomedical domain. If a question is not from biomedical domain, respond with 'The question is not relevant to the biomedical domain'.  Here is the user's question: What does IBD stand for?\"}]"
      ]
     },
     "execution_count": 166,
     "metadata": {},
     "output_type": "execute_result"
    }
   ],
   "source": [
    "messages"
   ]
  },
  {
   "cell_type": "code",
   "execution_count": 167,
   "metadata": {},
   "outputs": [],
   "source": [
    "chat_completion = client.chat.completions.create(\n",
    "    model = 'gpt-4-turbo-preview',\n",
    "    messages = messages,\n",
    "    temperature = 0.5,\n",
    "    max_tokens = 800,\n",
    "    top_p = 0.95,\n",
    "    frequency_penalty = 0,\n",
    "    presence_penalty = 0,\n",
    "    stop = None\n",
    ")"
   ]
  },
  {
   "cell_type": "code",
   "execution_count": 168,
   "metadata": {},
   "outputs": [
    {
     "data": {
      "text/plain": [
       "\"IBD stands for Inflammatory Bowel Disease. It is a term primarily used to describe two conditions: Crohn's disease and ulcerative colitis, both of which are characterized by chronic inflammation of the gastrointestinal (GI) tract.\""
      ]
     },
     "execution_count": 168,
     "metadata": {},
     "output_type": "execute_result"
    }
   ],
   "source": [
    "chat_completion.choices[0].message.content"
   ]
  },
  {
   "cell_type": "code",
   "execution_count": 169,
   "metadata": {},
   "outputs": [],
   "source": [
    "response = chat_completion.choices[0].message.content"
   ]
  },
  {
   "cell_type": "code",
   "execution_count": 170,
   "metadata": {},
   "outputs": [],
   "source": [
    "chat_history.append((new_user_question, response))"
   ]
  },
  {
   "cell_type": "code",
   "execution_count": 171,
   "metadata": {},
   "outputs": [
    {
     "name": "stdout",
     "output_type": "stream",
     "text": [
      "IBD stands for Inflammatory Bowel Disease. It is a term primarily used to describe two conditions: Crohn's disease and ulcerative colitis, both of which are characterized by chronic inflammation of the gastrointestinal (GI) tract. \n",
      "\n"
     ]
    }
   ],
   "source": [
    "print(response, \"\\n\")"
   ]
  },
  {
   "cell_type": "code",
   "execution_count": 172,
   "metadata": {},
   "outputs": [
    {
     "data": {
      "text/plain": [
       "[('What type of molecule encodes heritable genetic information for all forms of life?',\n",
       "  'The type of molecule that encodes heritable genetic information for all forms of life is deoxyribonucleic acid, commonly known as DNA. DNA is a long molecule that contains the unique genetic code that guides the development, functioning, and reproduction of all living organisms and many viruses.'),\n",
       " ('What does IBD stand for?',\n",
       "  \"IBD stands for Inflammatory Bowel Disease. It is a term primarily used to describe two conditions: Crohn's disease and ulcerative colitis, both of which are characterized by chronic inflammation of the gastrointestinal (GI) tract.\")]"
      ]
     },
     "execution_count": 172,
     "metadata": {},
     "output_type": "execute_result"
    }
   ],
   "source": [
    "# third question processing\n",
    "chat_history"
   ]
  },
  {
   "cell_type": "code",
   "execution_count": 173,
   "metadata": {},
   "outputs": [],
   "source": [
    "new_user_question = \"How can I make a paper airplane?\""
   ]
  },
  {
   "cell_type": "code",
   "execution_count": 174,
   "metadata": {},
   "outputs": [],
   "source": [
    "new_question = new_user_question"
   ]
  },
  {
   "cell_type": "code",
   "execution_count": 175,
   "metadata": {},
   "outputs": [],
   "source": [
    "system_prompt = {\n",
    "    \"role\": \"system\", \n",
    "    \"content\" : \"You are a distinguished scientist and an expert in the biomedical domain. You are answering questions in the biomedical domain only.  If you are asked a question that is not related to biomedical domain you response will be 'The question is not relevant to the biomedical domain'.\"\n",
    "    }\n",
    "\n",
    "user_question = {\n",
    "    \"role\": \"user\", \n",
    "    \"content\": f\"Only give me answers if the question is related to biomedical domain. If a question is not from biomedical domain, respond with 'The question is not relevant to the biomedical domain'.  Here is the user's question: {new_question}\"\n",
    "}\n",
    "\n",
    "messages = [system_prompt]\n",
    "\n",
    "# add the chat history\n",
    "for question, answer in chat_history:\n",
    "    messages.append({\"role\": \"user\", \"content\": question})\n",
    "    messages.append({\"role\": \"assistant\", \"content\": answer})\n",
    "    \n",
    "# append the latest user question    \n",
    "messages.append(user_question)"
   ]
  },
  {
   "cell_type": "code",
   "execution_count": 176,
   "metadata": {},
   "outputs": [
    {
     "data": {
      "text/plain": [
       "[{'role': 'system',\n",
       "  'content': \"You are a distinguished scientist and an expert in the biomedical domain. You are answering questions in the biomedical domain only.  If you are asked a question that is not related to biomedical domain you response will be 'The question is not relevant to the biomedical domain'.\"},\n",
       " {'role': 'user',\n",
       "  'content': 'What type of molecule encodes heritable genetic information for all forms of life?'},\n",
       " {'role': 'assistant',\n",
       "  'content': 'The type of molecule that encodes heritable genetic information for all forms of life is deoxyribonucleic acid, commonly known as DNA. DNA is a long molecule that contains the unique genetic code that guides the development, functioning, and reproduction of all living organisms and many viruses.'},\n",
       " {'role': 'user', 'content': 'What does IBD stand for?'},\n",
       " {'role': 'assistant',\n",
       "  'content': \"IBD stands for Inflammatory Bowel Disease. It is a term primarily used to describe two conditions: Crohn's disease and ulcerative colitis, both of which are characterized by chronic inflammation of the gastrointestinal (GI) tract.\"},\n",
       " {'role': 'user',\n",
       "  'content': \"Only give me answers if the question is related to biomedical domain. If a question is not from biomedical domain, respond with 'The question is not relevant to the biomedical domain'.  Here is the user's question: How can I make a paper airplane?\"}]"
      ]
     },
     "execution_count": 176,
     "metadata": {},
     "output_type": "execute_result"
    }
   ],
   "source": [
    "messages"
   ]
  },
  {
   "cell_type": "code",
   "execution_count": 177,
   "metadata": {},
   "outputs": [],
   "source": [
    "chat_completion = client.chat.completions.create(\n",
    "    model = 'gpt-4-turbo-preview',\n",
    "    messages = messages,\n",
    "    temperature = 0.5,\n",
    "    max_tokens = 800,\n",
    "    top_p = 0.95,\n",
    "    frequency_penalty = 0,\n",
    "    presence_penalty = 0,\n",
    "    stop = None\n",
    ")"
   ]
  },
  {
   "cell_type": "code",
   "execution_count": 178,
   "metadata": {},
   "outputs": [
    {
     "data": {
      "text/plain": [
       "'The question is not relevant to the biomedical domain.'"
      ]
     },
     "execution_count": 178,
     "metadata": {},
     "output_type": "execute_result"
    }
   ],
   "source": [
    "chat_completion.choices[0].message.content"
   ]
  },
  {
   "cell_type": "code",
   "execution_count": 179,
   "metadata": {},
   "outputs": [],
   "source": [
    "response = chat_completion.choices[0].message.content"
   ]
  },
  {
   "cell_type": "code",
   "execution_count": 180,
   "metadata": {},
   "outputs": [],
   "source": [
    "chat_history.append((new_user_question, response))"
   ]
  },
  {
   "cell_type": "code",
   "execution_count": 181,
   "metadata": {},
   "outputs": [
    {
     "name": "stdout",
     "output_type": "stream",
     "text": [
      "The question is not relevant to the biomedical domain. \n",
      "\n"
     ]
    }
   ],
   "source": [
    "print(response, \"\\n\")"
   ]
  },
  {
   "cell_type": "code",
   "execution_count": 182,
   "metadata": {},
   "outputs": [
    {
     "data": {
      "text/plain": [
       "[('What type of molecule encodes heritable genetic information for all forms of life?',\n",
       "  'The type of molecule that encodes heritable genetic information for all forms of life is deoxyribonucleic acid, commonly known as DNA. DNA is a long molecule that contains the unique genetic code that guides the development, functioning, and reproduction of all living organisms and many viruses.'),\n",
       " ('What does IBD stand for?',\n",
       "  \"IBD stands for Inflammatory Bowel Disease. It is a term primarily used to describe two conditions: Crohn's disease and ulcerative colitis, both of which are characterized by chronic inflammation of the gastrointestinal (GI) tract.\"),\n",
       " ('How can I make a paper airplane?',\n",
       "  'The question is not relevant to the biomedical domain.')]"
      ]
     },
     "execution_count": 182,
     "metadata": {},
     "output_type": "execute_result"
    }
   ],
   "source": [
    "# fourth question processing\n",
    "chat_history"
   ]
  },
  {
   "cell_type": "code",
   "execution_count": 183,
   "metadata": {},
   "outputs": [],
   "source": [
    "new_user_question = \"What is the deadliest form of cancer in the United States, measured by number of deaths per year?\""
   ]
  },
  {
   "cell_type": "code",
   "execution_count": 184,
   "metadata": {},
   "outputs": [],
   "source": [
    "new_question = new_user_question"
   ]
  },
  {
   "cell_type": "code",
   "execution_count": 185,
   "metadata": {},
   "outputs": [],
   "source": [
    "system_prompt = {\n",
    "    \"role\": \"system\", \n",
    "    \"content\" : \"You are a distinguished scientist and an expert in the biomedical domain. You are answering questions in the biomedical domain only.  If you are asked a question that is not related to biomedical domain you response will be 'The question is not relevant to the biomedical domain'.\"\n",
    "    }\n",
    "\n",
    "user_question = {\n",
    "    \"role\": \"user\", \n",
    "    \"content\": f\"Only give me answers if the question is related to biomedical domain. If a question is not from biomedical domain, respond with 'The question is not relevant to the biomedical domain'.  Here is the user's question: {new_question}\"\n",
    "}\n",
    "\n",
    "messages = [system_prompt]\n",
    "\n",
    "# add the chat history\n",
    "for question, answer in chat_history:\n",
    "    messages.append({\"role\": \"user\", \"content\": question})\n",
    "    messages.append({\"role\": \"assistant\", \"content\": answer})\n",
    "    \n",
    "# append the latest user question    \n",
    "messages.append(user_question)"
   ]
  },
  {
   "cell_type": "code",
   "execution_count": 186,
   "metadata": {},
   "outputs": [
    {
     "data": {
      "text/plain": [
       "[{'role': 'system',\n",
       "  'content': \"You are a distinguished scientist and an expert in the biomedical domain. You are answering questions in the biomedical domain only.  If you are asked a question that is not related to biomedical domain you response will be 'The question is not relevant to the biomedical domain'.\"},\n",
       " {'role': 'user',\n",
       "  'content': 'What type of molecule encodes heritable genetic information for all forms of life?'},\n",
       " {'role': 'assistant',\n",
       "  'content': 'The type of molecule that encodes heritable genetic information for all forms of life is deoxyribonucleic acid, commonly known as DNA. DNA is a long molecule that contains the unique genetic code that guides the development, functioning, and reproduction of all living organisms and many viruses.'},\n",
       " {'role': 'user', 'content': 'What does IBD stand for?'},\n",
       " {'role': 'assistant',\n",
       "  'content': \"IBD stands for Inflammatory Bowel Disease. It is a term primarily used to describe two conditions: Crohn's disease and ulcerative colitis, both of which are characterized by chronic inflammation of the gastrointestinal (GI) tract.\"},\n",
       " {'role': 'user', 'content': 'How can I make a paper airplane?'},\n",
       " {'role': 'assistant',\n",
       "  'content': 'The question is not relevant to the biomedical domain.'},\n",
       " {'role': 'user',\n",
       "  'content': \"Only give me answers if the question is related to biomedical domain. If a question is not from biomedical domain, respond with 'The question is not relevant to the biomedical domain'.  Here is the user's question: What is the deadliest form of cancer in the United States, measured by number of deaths per year?\"}]"
      ]
     },
     "execution_count": 186,
     "metadata": {},
     "output_type": "execute_result"
    }
   ],
   "source": [
    "messages"
   ]
  },
  {
   "cell_type": "code",
   "execution_count": 187,
   "metadata": {},
   "outputs": [],
   "source": [
    "chat_completion = client.chat.completions.create(\n",
    "    model = 'gpt-4-turbo-preview',\n",
    "    messages = messages,\n",
    "    temperature = 0.5,\n",
    "    max_tokens = 800,\n",
    "    top_p = 0.95,\n",
    "    frequency_penalty = 0,\n",
    "    presence_penalty = 0,\n",
    "    stop = None\n",
    ")"
   ]
  },
  {
   "cell_type": "code",
   "execution_count": 188,
   "metadata": {},
   "outputs": [
    {
     "data": {
      "text/plain": [
       "'As of my last update, the deadliest form of cancer in the United States, measured by the number of deaths per year, is lung cancer. Lung cancer leads to the highest number of cancer-related deaths annually, significantly impacting both men and women. This high mortality rate is often attributed to the fact that lung cancer is usually diagnosed at a late stage when it is more difficult to treat.'"
      ]
     },
     "execution_count": 188,
     "metadata": {},
     "output_type": "execute_result"
    }
   ],
   "source": [
    "chat_completion.choices[0].message.content"
   ]
  },
  {
   "cell_type": "code",
   "execution_count": 189,
   "metadata": {},
   "outputs": [],
   "source": [
    "response = chat_completion.choices[0].message.content"
   ]
  },
  {
   "cell_type": "code",
   "execution_count": 190,
   "metadata": {},
   "outputs": [],
   "source": [
    "chat_history.append((new_user_question, response))"
   ]
  },
  {
   "cell_type": "code",
   "execution_count": 191,
   "metadata": {},
   "outputs": [
    {
     "name": "stdout",
     "output_type": "stream",
     "text": [
      "As of my last update, the deadliest form of cancer in the United States, measured by the number of deaths per year, is lung cancer. Lung cancer leads to the highest number of cancer-related deaths annually, significantly impacting both men and women. This high mortality rate is often attributed to the fact that lung cancer is usually diagnosed at a late stage when it is more difficult to treat. \n",
      "\n"
     ]
    }
   ],
   "source": [
    "print(response, \"\\n\")"
   ]
  },
  {
   "cell_type": "code",
   "execution_count": 192,
   "metadata": {},
   "outputs": [
    {
     "data": {
      "text/plain": [
       "[('What type of molecule encodes heritable genetic information for all forms of life?',\n",
       "  'The type of molecule that encodes heritable genetic information for all forms of life is deoxyribonucleic acid, commonly known as DNA. DNA is a long molecule that contains the unique genetic code that guides the development, functioning, and reproduction of all living organisms and many viruses.'),\n",
       " ('What does IBD stand for?',\n",
       "  \"IBD stands for Inflammatory Bowel Disease. It is a term primarily used to describe two conditions: Crohn's disease and ulcerative colitis, both of which are characterized by chronic inflammation of the gastrointestinal (GI) tract.\"),\n",
       " ('How can I make a paper airplane?',\n",
       "  'The question is not relevant to the biomedical domain.'),\n",
       " ('What is the deadliest form of cancer in the United States, measured by number of deaths per year?',\n",
       "  'As of my last update, the deadliest form of cancer in the United States, measured by the number of deaths per year, is lung cancer. Lung cancer leads to the highest number of cancer-related deaths annually, significantly impacting both men and women. This high mortality rate is often attributed to the fact that lung cancer is usually diagnosed at a late stage when it is more difficult to treat.')]"
      ]
     },
     "execution_count": 192,
     "metadata": {},
     "output_type": "execute_result"
    }
   ],
   "source": [
    "# fifth question processing\n",
    "chat_history"
   ]
  },
  {
   "cell_type": "code",
   "execution_count": 193,
   "metadata": {},
   "outputs": [],
   "source": [
    "new_user_question = \"How is it typically diagnosed?\""
   ]
  },
  {
   "cell_type": "code",
   "execution_count": 194,
   "metadata": {},
   "outputs": [],
   "source": [
    "new_question = new_user_question"
   ]
  },
  {
   "cell_type": "code",
   "execution_count": 195,
   "metadata": {},
   "outputs": [],
   "source": [
    "system_prompt = {\n",
    "    \"role\": \"system\", \n",
    "    \"content\" : \"You are a distinguished scientist and an expert in the biomedical domain. You are answering questions in the biomedical domain only.  If you are asked a question that is not related to biomedical domain you response will be 'The question is not relevant to the biomedical domain'.\"\n",
    "    }\n",
    "\n",
    "user_question = {\n",
    "    \"role\": \"user\", \n",
    "    \"content\": f\"Only give me answers if the question is related to biomedical domain. If a question is not from biomedical domain, respond with 'The question is not relevant to the biomedical domain'.  Here is the user's question: {new_question}\"\n",
    "}\n",
    "\n",
    "messages = [system_prompt]\n",
    "\n",
    "# add the chat history\n",
    "for question, answer in chat_history:\n",
    "    messages.append({\"role\": \"user\", \"content\": question})\n",
    "    messages.append({\"role\": \"assistant\", \"content\": answer})\n",
    "    \n",
    "# append the latest user question    \n",
    "messages.append(user_question)"
   ]
  },
  {
   "cell_type": "code",
   "execution_count": 196,
   "metadata": {},
   "outputs": [
    {
     "data": {
      "text/plain": [
       "[{'role': 'system',\n",
       "  'content': \"You are a distinguished scientist and an expert in the biomedical domain. You are answering questions in the biomedical domain only.  If you are asked a question that is not related to biomedical domain you response will be 'The question is not relevant to the biomedical domain'.\"},\n",
       " {'role': 'user',\n",
       "  'content': 'What type of molecule encodes heritable genetic information for all forms of life?'},\n",
       " {'role': 'assistant',\n",
       "  'content': 'The type of molecule that encodes heritable genetic information for all forms of life is deoxyribonucleic acid, commonly known as DNA. DNA is a long molecule that contains the unique genetic code that guides the development, functioning, and reproduction of all living organisms and many viruses.'},\n",
       " {'role': 'user', 'content': 'What does IBD stand for?'},\n",
       " {'role': 'assistant',\n",
       "  'content': \"IBD stands for Inflammatory Bowel Disease. It is a term primarily used to describe two conditions: Crohn's disease and ulcerative colitis, both of which are characterized by chronic inflammation of the gastrointestinal (GI) tract.\"},\n",
       " {'role': 'user', 'content': 'How can I make a paper airplane?'},\n",
       " {'role': 'assistant',\n",
       "  'content': 'The question is not relevant to the biomedical domain.'},\n",
       " {'role': 'user',\n",
       "  'content': 'What is the deadliest form of cancer in the United States, measured by number of deaths per year?'},\n",
       " {'role': 'assistant',\n",
       "  'content': 'As of my last update, the deadliest form of cancer in the United States, measured by the number of deaths per year, is lung cancer. Lung cancer leads to the highest number of cancer-related deaths annually, significantly impacting both men and women. This high mortality rate is often attributed to the fact that lung cancer is usually diagnosed at a late stage when it is more difficult to treat.'},\n",
       " {'role': 'user',\n",
       "  'content': \"Only give me answers if the question is related to biomedical domain. If a question is not from biomedical domain, respond with 'The question is not relevant to the biomedical domain'.  Here is the user's question: How is it typically diagnosed?\"}]"
      ]
     },
     "execution_count": 196,
     "metadata": {},
     "output_type": "execute_result"
    }
   ],
   "source": [
    "messages"
   ]
  },
  {
   "cell_type": "code",
   "execution_count": 197,
   "metadata": {},
   "outputs": [],
   "source": [
    "chat_completion = client.chat.completions.create(\n",
    "    model = 'gpt-4-turbo-preview',\n",
    "    messages = messages,\n",
    "    temperature = 0.5,\n",
    "    max_tokens = 800,\n",
    "    top_p = 0.95,\n",
    "    frequency_penalty = 0,\n",
    "    presence_penalty = 0,\n",
    "    stop = None\n",
    ")"
   ]
  },
  {
   "cell_type": "code",
   "execution_count": 199,
   "metadata": {},
   "outputs": [
    {
     "data": {
      "text/plain": [
       "'Assuming the question pertains to lung cancer, given the context of the previous query:\\n\\nLung cancer is typically diagnosed through a combination of patient history, physical examinations, and various diagnostic tests. These may include:\\n\\n1. **Imaging Tests**: Chest X-rays are commonly used as an initial step to look for any abnormal masses or nodules. More detailed imaging, such as computed tomography (CT) scans, can provide more detailed pictures of the lungs and help identify smaller lesions that might not be visible on an X-ray.\\n\\n2. **Biopsy**: A biopsy, where a small sample of lung tissue is removed and examined under a microscope, is the definitive way to diagnose lung cancer. Biopsies can be performed in different ways, including bronchoscopy (where a tube is passed down your throat into your lungs), mediastinoscopy (a surgical procedure to examine the inside of the upper chest between and in front of the lungs), and needle biopsy (where a needle is used to extract lung tissue), among others.\\n\\n3. **Sputum Cytology**: If there is a cough producing sputum, examining the sputum under the microscope can sometimes reveal the presence of lung cancer cells.\\n\\n4. **Molecular Testing**: Advanced tests can analyze the cancer cells to look for specific genes, proteins, and other factors unique to the cancer. This can help determine the most effective treatment options.\\n\\n5. **Blood Tests**: While blood tests cannot diagnose lung cancer directly, they can provide clues about the overall health of the patient and whether any organs are affected by cancer.\\n\\nEarly detection of lung cancer significantly improves the chances of successful treatment, highlighting the importance of screening for individuals at high risk, such as long-term smokers.'"
      ]
     },
     "execution_count": 199,
     "metadata": {},
     "output_type": "execute_result"
    }
   ],
   "source": [
    "chat_completion.choices[0].message.content"
   ]
  },
  {
   "cell_type": "code",
   "execution_count": 200,
   "metadata": {},
   "outputs": [],
   "source": [
    "response = chat_completion.choices[0].message.content"
   ]
  },
  {
   "cell_type": "code",
   "execution_count": 201,
   "metadata": {},
   "outputs": [],
   "source": [
    "chat_history.append((new_user_question, response))"
   ]
  },
  {
   "cell_type": "code",
   "execution_count": 202,
   "metadata": {},
   "outputs": [
    {
     "name": "stdout",
     "output_type": "stream",
     "text": [
      "Assuming the question pertains to lung cancer, given the context of the previous query:\n",
      "\n",
      "Lung cancer is typically diagnosed through a combination of patient history, physical examinations, and various diagnostic tests. These may include:\n",
      "\n",
      "1. **Imaging Tests**: Chest X-rays are commonly used as an initial step to look for any abnormal masses or nodules. More detailed imaging, such as computed tomography (CT) scans, can provide more detailed pictures of the lungs and help identify smaller lesions that might not be visible on an X-ray.\n",
      "\n",
      "2. **Biopsy**: A biopsy, where a small sample of lung tissue is removed and examined under a microscope, is the definitive way to diagnose lung cancer. Biopsies can be performed in different ways, including bronchoscopy (where a tube is passed down your throat into your lungs), mediastinoscopy (a surgical procedure to examine the inside of the upper chest between and in front of the lungs), and needle biopsy (where a needle is used to extract lung tissue), among others.\n",
      "\n",
      "3. **Sputum Cytology**: If there is a cough producing sputum, examining the sputum under the microscope can sometimes reveal the presence of lung cancer cells.\n",
      "\n",
      "4. **Molecular Testing**: Advanced tests can analyze the cancer cells to look for specific genes, proteins, and other factors unique to the cancer. This can help determine the most effective treatment options.\n",
      "\n",
      "5. **Blood Tests**: While blood tests cannot diagnose lung cancer directly, they can provide clues about the overall health of the patient and whether any organs are affected by cancer.\n",
      "\n",
      "Early detection of lung cancer significantly improves the chances of successful treatment, highlighting the importance of screening for individuals at high risk, such as long-term smokers. \n",
      "\n"
     ]
    }
   ],
   "source": [
    "print(response, \"\\n\")"
   ]
  },
  {
   "cell_type": "code",
   "execution_count": 203,
   "metadata": {},
   "outputs": [
    {
     "data": {
      "text/plain": [
       "[('What type of molecule encodes heritable genetic information for all forms of life?',\n",
       "  'The type of molecule that encodes heritable genetic information for all forms of life is deoxyribonucleic acid, commonly known as DNA. DNA is a long molecule that contains the unique genetic code that guides the development, functioning, and reproduction of all living organisms and many viruses.'),\n",
       " ('What does IBD stand for?',\n",
       "  \"IBD stands for Inflammatory Bowel Disease. It is a term primarily used to describe two conditions: Crohn's disease and ulcerative colitis, both of which are characterized by chronic inflammation of the gastrointestinal (GI) tract.\"),\n",
       " ('How can I make a paper airplane?',\n",
       "  'The question is not relevant to the biomedical domain.'),\n",
       " ('What is the deadliest form of cancer in the United States, measured by number of deaths per year?',\n",
       "  'As of my last update, the deadliest form of cancer in the United States, measured by the number of deaths per year, is lung cancer. Lung cancer leads to the highest number of cancer-related deaths annually, significantly impacting both men and women. This high mortality rate is often attributed to the fact that lung cancer is usually diagnosed at a late stage when it is more difficult to treat.'),\n",
       " ('How is it typically diagnosed?',\n",
       "  'Assuming the question pertains to lung cancer, given the context of the previous query:\\n\\nLung cancer is typically diagnosed through a combination of patient history, physical examinations, and various diagnostic tests. These may include:\\n\\n1. **Imaging Tests**: Chest X-rays are commonly used as an initial step to look for any abnormal masses or nodules. More detailed imaging, such as computed tomography (CT) scans, can provide more detailed pictures of the lungs and help identify smaller lesions that might not be visible on an X-ray.\\n\\n2. **Biopsy**: A biopsy, where a small sample of lung tissue is removed and examined under a microscope, is the definitive way to diagnose lung cancer. Biopsies can be performed in different ways, including bronchoscopy (where a tube is passed down your throat into your lungs), mediastinoscopy (a surgical procedure to examine the inside of the upper chest between and in front of the lungs), and needle biopsy (where a needle is used to extract lung tissue), among others.\\n\\n3. **Sputum Cytology**: If there is a cough producing sputum, examining the sputum under the microscope can sometimes reveal the presence of lung cancer cells.\\n\\n4. **Molecular Testing**: Advanced tests can analyze the cancer cells to look for specific genes, proteins, and other factors unique to the cancer. This can help determine the most effective treatment options.\\n\\n5. **Blood Tests**: While blood tests cannot diagnose lung cancer directly, they can provide clues about the overall health of the patient and whether any organs are affected by cancer.\\n\\nEarly detection of lung cancer significantly improves the chances of successful treatment, highlighting the importance of screening for individuals at high risk, such as long-term smokers.')]"
      ]
     },
     "execution_count": 203,
     "metadata": {},
     "output_type": "execute_result"
    }
   ],
   "source": [
    "# sixth question processing\n",
    "chat_history"
   ]
  },
  {
   "cell_type": "code",
   "execution_count": 204,
   "metadata": {},
   "outputs": [],
   "source": [
    "new_user_question = \"give me a recipe for a chocolate cake\""
   ]
  },
  {
   "cell_type": "code",
   "execution_count": 205,
   "metadata": {},
   "outputs": [],
   "source": [
    "new_question = new_user_question"
   ]
  },
  {
   "cell_type": "code",
   "execution_count": 206,
   "metadata": {},
   "outputs": [],
   "source": [
    "system_prompt = {\n",
    "    \"role\": \"system\", \n",
    "    \"content\" : \"You are a distinguished scientist and an expert in the biomedical domain. You are answering questions in the biomedical domain only.  If you are asked a question that is not related to biomedical domain you response will be 'The question is not relevant to the biomedical domain'.\"\n",
    "    }\n",
    "\n",
    "user_question = {\n",
    "    \"role\": \"user\", \n",
    "    \"content\": f\"Only give me answers if the question is related to biomedical domain. If a question is not from biomedical domain, respond with 'The question is not relevant to the biomedical domain'.  Here is the user's question: {new_question}\"\n",
    "}\n",
    "\n",
    "messages = [system_prompt]\n",
    "\n",
    "# add the chat history\n",
    "for question, answer in chat_history:\n",
    "    messages.append({\"role\": \"user\", \"content\": question})\n",
    "    messages.append({\"role\": \"assistant\", \"content\": answer})\n",
    "    \n",
    "# append the latest user question    \n",
    "messages.append(user_question)"
   ]
  },
  {
   "cell_type": "code",
   "execution_count": 207,
   "metadata": {},
   "outputs": [
    {
     "data": {
      "text/plain": [
       "[{'role': 'system',\n",
       "  'content': \"You are a distinguished scientist and an expert in the biomedical domain. You are answering questions in the biomedical domain only.  If you are asked a question that is not related to biomedical domain you response will be 'The question is not relevant to the biomedical domain'.\"},\n",
       " {'role': 'user',\n",
       "  'content': 'What type of molecule encodes heritable genetic information for all forms of life?'},\n",
       " {'role': 'assistant',\n",
       "  'content': 'The type of molecule that encodes heritable genetic information for all forms of life is deoxyribonucleic acid, commonly known as DNA. DNA is a long molecule that contains the unique genetic code that guides the development, functioning, and reproduction of all living organisms and many viruses.'},\n",
       " {'role': 'user', 'content': 'What does IBD stand for?'},\n",
       " {'role': 'assistant',\n",
       "  'content': \"IBD stands for Inflammatory Bowel Disease. It is a term primarily used to describe two conditions: Crohn's disease and ulcerative colitis, both of which are characterized by chronic inflammation of the gastrointestinal (GI) tract.\"},\n",
       " {'role': 'user', 'content': 'How can I make a paper airplane?'},\n",
       " {'role': 'assistant',\n",
       "  'content': 'The question is not relevant to the biomedical domain.'},\n",
       " {'role': 'user',\n",
       "  'content': 'What is the deadliest form of cancer in the United States, measured by number of deaths per year?'},\n",
       " {'role': 'assistant',\n",
       "  'content': 'As of my last update, the deadliest form of cancer in the United States, measured by the number of deaths per year, is lung cancer. Lung cancer leads to the highest number of cancer-related deaths annually, significantly impacting both men and women. This high mortality rate is often attributed to the fact that lung cancer is usually diagnosed at a late stage when it is more difficult to treat.'},\n",
       " {'role': 'user', 'content': 'How is it typically diagnosed?'},\n",
       " {'role': 'assistant',\n",
       "  'content': 'Assuming the question pertains to lung cancer, given the context of the previous query:\\n\\nLung cancer is typically diagnosed through a combination of patient history, physical examinations, and various diagnostic tests. These may include:\\n\\n1. **Imaging Tests**: Chest X-rays are commonly used as an initial step to look for any abnormal masses or nodules. More detailed imaging, such as computed tomography (CT) scans, can provide more detailed pictures of the lungs and help identify smaller lesions that might not be visible on an X-ray.\\n\\n2. **Biopsy**: A biopsy, where a small sample of lung tissue is removed and examined under a microscope, is the definitive way to diagnose lung cancer. Biopsies can be performed in different ways, including bronchoscopy (where a tube is passed down your throat into your lungs), mediastinoscopy (a surgical procedure to examine the inside of the upper chest between and in front of the lungs), and needle biopsy (where a needle is used to extract lung tissue), among others.\\n\\n3. **Sputum Cytology**: If there is a cough producing sputum, examining the sputum under the microscope can sometimes reveal the presence of lung cancer cells.\\n\\n4. **Molecular Testing**: Advanced tests can analyze the cancer cells to look for specific genes, proteins, and other factors unique to the cancer. This can help determine the most effective treatment options.\\n\\n5. **Blood Tests**: While blood tests cannot diagnose lung cancer directly, they can provide clues about the overall health of the patient and whether any organs are affected by cancer.\\n\\nEarly detection of lung cancer significantly improves the chances of successful treatment, highlighting the importance of screening for individuals at high risk, such as long-term smokers.'},\n",
       " {'role': 'user',\n",
       "  'content': \"Only give me answers if the question is related to biomedical domain. If a question is not from biomedical domain, respond with 'The question is not relevant to the biomedical domain'.  Here is the user's question: give me a recipe for a chocolate cake\"}]"
      ]
     },
     "execution_count": 207,
     "metadata": {},
     "output_type": "execute_result"
    }
   ],
   "source": [
    "messages"
   ]
  },
  {
   "cell_type": "code",
   "execution_count": 208,
   "metadata": {},
   "outputs": [],
   "source": [
    "chat_completion = client.chat.completions.create(\n",
    "    model = 'gpt-4-turbo-preview',\n",
    "    messages = messages,\n",
    "    temperature = 0.5,\n",
    "    max_tokens = 800,\n",
    "    top_p = 0.95,\n",
    "    frequency_penalty = 0,\n",
    "    presence_penalty = 0,\n",
    "    stop = None\n",
    ")"
   ]
  },
  {
   "cell_type": "code",
   "execution_count": 209,
   "metadata": {},
   "outputs": [
    {
     "data": {
      "text/plain": [
       "'The question is not relevant to the biomedical domain.'"
      ]
     },
     "execution_count": 209,
     "metadata": {},
     "output_type": "execute_result"
    }
   ],
   "source": [
    "chat_completion.choices[0].message.content"
   ]
  },
  {
   "cell_type": "code",
   "execution_count": 210,
   "metadata": {},
   "outputs": [],
   "source": [
    "response = chat_completion.choices[0].message.content"
   ]
  },
  {
   "cell_type": "code",
   "execution_count": 211,
   "metadata": {},
   "outputs": [],
   "source": [
    "chat_history.append((new_user_question, response))"
   ]
  },
  {
   "cell_type": "code",
   "execution_count": 212,
   "metadata": {},
   "outputs": [
    {
     "name": "stdout",
     "output_type": "stream",
     "text": [
      "The question is not relevant to the biomedical domain. \n",
      "\n"
     ]
    }
   ],
   "source": [
    "print(response, \"\\n\")"
   ]
  },
  {
   "cell_type": "code",
   "execution_count": null,
   "metadata": {},
   "outputs": [],
   "source": []
  },
  {
   "cell_type": "code",
   "execution_count": null,
   "metadata": {},
   "outputs": [],
   "source": []
  },
  {
   "cell_type": "code",
   "execution_count": null,
   "metadata": {},
   "outputs": [],
   "source": []
  },
  {
   "cell_type": "code",
   "execution_count": null,
   "metadata": {},
   "outputs": [],
   "source": []
  },
  {
   "cell_type": "code",
   "execution_count": null,
   "metadata": {},
   "outputs": [],
   "source": []
  },
  {
   "cell_type": "code",
   "execution_count": null,
   "metadata": {},
   "outputs": [],
   "source": []
  },
  {
   "cell_type": "code",
   "execution_count": null,
   "metadata": {},
   "outputs": [],
   "source": []
  },
  {
   "cell_type": "code",
   "execution_count": null,
   "metadata": {},
   "outputs": [],
   "source": []
  }
 ],
 "metadata": {
  "kernelspec": {
   "display_name": "venv",
   "language": "python",
   "name": "python3"
  },
  "language_info": {
   "codemirror_mode": {
    "name": "ipython",
    "version": 3
   },
   "file_extension": ".py",
   "mimetype": "text/x-python",
   "name": "python",
   "nbconvert_exporter": "python",
   "pygments_lexer": "ipython3",
   "version": "3.8.9"
  }
 },
 "nbformat": 4,
 "nbformat_minor": 2
}
